{
 "cells": [
  {
   "cell_type": "code",
   "execution_count": 1,
   "id": "d234c4d9",
   "metadata": {},
   "outputs": [
    {
     "data": {
      "text/plain": [
       "set"
      ]
     },
     "execution_count": 1,
     "metadata": {},
     "output_type": "execute_result"
    }
   ],
   "source": [
    "# sets are unordered,unchangeable and do not allow duplicate values\n",
    "# it is donated by curly brackets{}\n",
    "x ={\"amit\",\"basu\",\"charmi\",\"arpit\"}\n",
    "type(x)"
   ]
  },
  {
   "cell_type": "code",
   "execution_count": 2,
   "id": "10527090",
   "metadata": {},
   "outputs": [
    {
     "name": "stdout",
     "output_type": "stream",
     "text": [
      "['__and__', '__class__', '__contains__', '__delattr__', '__dir__', '__doc__', '__eq__', '__format__', '__ge__', '__getattribute__', '__gt__', '__hash__', '__iand__', '__init__', '__init_subclass__', '__ior__', '__isub__', '__iter__', '__ixor__', '__le__', '__len__', '__lt__', '__ne__', '__new__', '__or__', '__rand__', '__reduce__', '__reduce_ex__', '__repr__', '__ror__', '__rsub__', '__rxor__', '__setattr__', '__sizeof__', '__str__', '__sub__', '__subclasshook__', '__xor__', 'add', 'clear', 'copy', 'difference', 'difference_update', 'discard', 'intersection', 'intersection_update', 'isdisjoint', 'issubset', 'issuperset', 'pop', 'remove', 'symmetric_difference', 'symmetric_difference_update', 'union', 'update']\n"
     ]
    }
   ],
   "source": [
    "print(dir(set))"
   ]
  },
  {
   "cell_type": "code",
   "execution_count": 2,
   "id": "c4eac8ce",
   "metadata": {},
   "outputs": [],
   "source": [
    "x ={\"amit\",\"basu\",\"charmi\",\"arpit\"}\n",
    "y = {\"cake\",\"pastry\",\"slice\"}\n",
    "z = x.union(y)\n"
   ]
  },
  {
   "cell_type": "code",
   "execution_count": 1,
   "id": "cd9ae48c",
   "metadata": {},
   "outputs": [
    {
     "name": "stdout",
     "output_type": "stream",
     "text": [
      "{'charmi', 'pastry', 'arpit', 'amit', 'cake', 'basu', 'slice'}\n"
     ]
    }
   ],
   "source": [
    "x ={\"amit\",\"basu\",\"charmi\",\"arpit\"}\n",
    "y = {\"cake\",\"pastry\",\"slice\"}\n",
    "x.update(y)\n",
    "print(x)"
   ]
  },
  {
   "cell_type": "code",
   "execution_count": 6,
   "id": "1ef98fbf",
   "metadata": {},
   "outputs": [
    {
     "data": {
      "text/plain": [
       "set"
      ]
     },
     "execution_count": 6,
     "metadata": {},
     "output_type": "execute_result"
    }
   ],
   "source": [
    "# method to find out the class of a set\n",
    "x = {\"apple\",\"batsman\",\"bowler\"}\n",
    "type(x)\n"
   ]
  },
  {
   "cell_type": "code",
   "execution_count": 9,
   "id": "b4ca8697",
   "metadata": {},
   "outputs": [
    {
     "name": "stdout",
     "output_type": "stream",
     "text": [
      "set()\n"
     ]
    }
   ],
   "source": [
    "# method to find out the clear of a set\n",
    "x = {\"apple\",\"batsman\",\"bowler\"}\n",
    "x.clear()\n",
    "print(x)\n"
   ]
  },
  {
   "cell_type": "code",
   "execution_count": 4,
   "id": "a0622ea6",
   "metadata": {},
   "outputs": [
    {
     "name": "stdout",
     "output_type": "stream",
     "text": [
      "{'hindi', 'holy book', 'novel'}\n"
     ]
    }
   ],
   "source": [
    "# method to find out the duplicate of a set\n",
    "x ={\"hindi\",\"novel\",\"sanskrit\",\"holy book\"}\n",
    "y ={\"holy book\",\"novel\",\"harvard\",\"hindi\" }\n",
    "x.intersection_update(y)\n",
    "print(x)"
   ]
  },
  {
   "cell_type": "code",
   "execution_count": 6,
   "id": "90ca9cc7",
   "metadata": {},
   "outputs": [
    {
     "name": "stdout",
     "output_type": "stream",
     "text": [
      "{'hindi', 'all-rounder', 'bastman', 'sanskrit', 'novel', 'bowler'}\n"
     ]
    }
   ],
   "source": [
    "# method to find out the keep all,not duplicate of a set\n",
    "x = {\"hindi\",\"novel\",\"sanskrit\",\"holy book\" }\n",
    "y = {\"bastman\",\"bowler\",\"all-rounder\",\"holy book\"}\n",
    "x.symmetric_difference_update(y)\n",
    "print(x)"
   ]
  },
  {
   "cell_type": "code",
   "execution_count": 8,
   "id": "edd035ec",
   "metadata": {},
   "outputs": [
    {
     "name": "stdout",
     "output_type": "stream",
     "text": [
      "{'holy book', 'sanskrit', 'novel'}\n"
     ]
    }
   ],
   "source": [
    "# method to find out the pop() method\n",
    "x = {\"hindi\",\"novel\",\"sanskrit\",\"holy book\" }\n",
    "x.pop()\n",
    "print(x) # [we do not know which can be remove because sets are unodered]"
   ]
  },
  {
   "cell_type": "code",
   "execution_count": null,
   "id": "2d6c7e23",
   "metadata": {},
   "outputs": [],
   "source": []
  }
 ],
 "metadata": {
  "kernelspec": {
   "display_name": "Python 3",
   "language": "python",
   "name": "python3"
  },
  "language_info": {
   "codemirror_mode": {
    "name": "ipython",
    "version": 3
   },
   "file_extension": ".py",
   "mimetype": "text/x-python",
   "name": "python",
   "nbconvert_exporter": "python",
   "pygments_lexer": "ipython3",
   "version": "3.8.8"
  }
 },
 "nbformat": 4,
 "nbformat_minor": 5
}
