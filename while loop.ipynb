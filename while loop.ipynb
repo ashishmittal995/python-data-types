{
 "cells": [
  {
   "cell_type": "code",
   "execution_count": null,
   "id": "78dff0df",
   "metadata": {},
   "outputs": [],
   "source": [
    "# while loop\n",
    "num=0\n",
    "while num<5:\n",
    "    print(num,end='\\t')\n",
    "    num=num+1\n",
    "print('End')"
   ]
  },
  {
   "cell_type": "code",
   "execution_count": null,
   "id": "0cfbf35d",
   "metadata": {},
   "outputs": [],
   "source": [
    "num=0\n",
    "while num<5:\n",
    "    print(num,end='\\t')\n",
    "    num=num+1\n",
    "else:\n",
    "    print('end of while')\n",
    "    print('end of program')\n"
   ]
  },
  {
   "cell_type": "code",
   "execution_count": null,
   "id": "0466eb36",
   "metadata": {},
   "outputs": [],
   "source": [
    "print('your name')"
   ]
  },
  {
   "cell_type": "code",
   "execution_count": null,
   "id": "3ad378b2",
   "metadata": {},
   "outputs": [],
   "source": [
    "i =1\n",
    "while i<10:\n",
    "    print('your name')\n",
    "    i =i+2\n",
    "else:\n",
    "    print('finished looping')\n",
    "    print('finally the end')"
   ]
  },
  {
   "cell_type": "code",
   "execution_count": null,
   "id": "9fd413cd",
   "metadata": {},
   "outputs": [],
   "source": [
    "for i in range(10):\n",
    "    print(i,end='\\t')\n",
    "else:\n",
    "    print('end of for loop')\n",
    "    print('end of program')"
   ]
  },
  {
   "cell_type": "code",
   "execution_count": null,
   "id": "38380739",
   "metadata": {},
   "outputs": [],
   "source": [
    "while 0:\n",
    "    print('hello')\n",
    "    "
   ]
  },
  {
   "cell_type": "code",
   "execution_count": null,
   "id": "c971e74f",
   "metadata": {},
   "outputs": [],
   "source": [
    "bool(0)"
   ]
  },
  {
   "cell_type": "code",
   "execution_count": null,
   "id": "b46a74a2",
   "metadata": {},
   "outputs": [],
   "source": [
    "while 0:\n",
    "    print('hello')\n",
    "else:\n",
    "    print('a falsy')"
   ]
  },
  {
   "cell_type": "code",
   "execution_count": null,
   "id": "80d82c30",
   "metadata": {},
   "outputs": [],
   "source": [
    "i=0\n",
    "bool(i)"
   ]
  },
  {
   "cell_type": "code",
   "execution_count": null,
   "id": "bbef47db",
   "metadata": {},
   "outputs": [],
   "source": [
    "t =-76484\n",
    "bool(t)"
   ]
  },
  {
   "cell_type": "code",
   "execution_count": null,
   "id": "86d7eb05",
   "metadata": {},
   "outputs": [],
   "source": [
    "for i in range(10):\n",
    "    break\n",
    "print('end of program')"
   ]
  },
  {
   "cell_type": "code",
   "execution_count": null,
   "id": "d0c94ea0",
   "metadata": {},
   "outputs": [],
   "source": [
    "for i in range(10):\n",
    "    continue\n",
    "print('end of program')    "
   ]
  },
  {
   "cell_type": "code",
   "execution_count": null,
   "id": "c4db2956",
   "metadata": {},
   "outputs": [],
   "source": [
    "from time import time\n",
    "help(time)"
   ]
  },
  {
   "cell_type": "code",
   "execution_count": null,
   "id": "55bbea6e",
   "metadata": {},
   "outputs": [],
   "source": [
    "time()"
   ]
  },
  {
   "cell_type": "code",
   "execution_count": null,
   "id": "7a985b77",
   "metadata": {},
   "outputs": [],
   "source": [
    "start=time()\n",
    "for i in range(10):\n",
    "    break\n",
    "print('end of program')  \n",
    "end=time()\n",
    "print('time taken={}secs'.format(end-start))"
   ]
  },
  {
   "cell_type": "code",
   "execution_count": null,
   "id": "c1dba199",
   "metadata": {},
   "outputs": [],
   "source": [
    "start = time()\n",
    "for i in range(10):\n",
    "    continue\n",
    "print('End of program')\n",
    "end = time()\n",
    "print(' Time taken = {} secs'.format(end-start))"
   ]
  },
  {
   "cell_type": "code",
   "execution_count": 2,
   "id": "d8f279f1",
   "metadata": {},
   "outputs": [
    {
     "ename": "NameError",
     "evalue": "name 'time' is not defined",
     "output_type": "error",
     "traceback": [
      "\u001b[1;31m---------------------------------------------------------------------------\u001b[0m",
      "\u001b[1;31mNameError\u001b[0m                                 Traceback (most recent call last)",
      "\u001b[1;32m<ipython-input-2-6548d693152a>\u001b[0m in \u001b[0;36m<module>\u001b[1;34m\u001b[0m\n\u001b[1;32m----> 1\u001b[1;33m \u001b[0mstart\u001b[0m \u001b[1;33m=\u001b[0m \u001b[0mtime\u001b[0m\u001b[1;33m(\u001b[0m\u001b[1;33m)\u001b[0m\u001b[1;33m\u001b[0m\u001b[1;33m\u001b[0m\u001b[0m\n\u001b[0m\u001b[0;32m      2\u001b[0m \u001b[1;32mfor\u001b[0m \u001b[0mi\u001b[0m \u001b[1;32min\u001b[0m \u001b[0mrange\u001b[0m\u001b[1;33m(\u001b[0m\u001b[1;36m1000000\u001b[0m\u001b[1;33m)\u001b[0m\u001b[1;33m:\u001b[0m\u001b[1;33m\u001b[0m\u001b[1;33m\u001b[0m\u001b[0m\n\u001b[0;32m      3\u001b[0m     \u001b[0mprint\u001b[0m\u001b[1;33m(\u001b[0m\u001b[1;34m' I am now {}'\u001b[0m\u001b[1;33m.\u001b[0m\u001b[0mformat\u001b[0m\u001b[1;33m(\u001b[0m\u001b[0mi\u001b[0m\u001b[1;33m)\u001b[0m\u001b[1;33m)\u001b[0m\u001b[1;33m\u001b[0m\u001b[1;33m\u001b[0m\u001b[0m\n\u001b[0;32m      4\u001b[0m     \u001b[1;32mif\u001b[0m \u001b[0mi\u001b[0m \u001b[1;33m==\u001b[0m \u001b[1;36m5\u001b[0m\u001b[1;33m:\u001b[0m\u001b[1;33m\u001b[0m\u001b[1;33m\u001b[0m\u001b[0m\n\u001b[0;32m      5\u001b[0m         \u001b[0mprint\u001b[0m\u001b[1;33m(\u001b[0m\u001b[1;34m' Reached 5. Coming out '\u001b[0m\u001b[1;33m)\u001b[0m\u001b[1;33m\u001b[0m\u001b[1;33m\u001b[0m\u001b[0m\n",
      "\u001b[1;31mNameError\u001b[0m: name 'time' is not defined"
     ]
    }
   ],
   "source": [
    "start = time()\n",
    "for i in range(1000000):\n",
    "    print(' I am now {}'.format(i))\n",
    "    if i == 5:\n",
    "        print(' Reached 5. Coming out ')\n",
    "        break\n",
    "print('End of program')\n",
    "end = time()\n",
    "print('Time taken = {} secs '.format(end-start))"
   ]
  },
  {
   "cell_type": "code",
   "execution_count": 5,
   "id": "595ef006",
   "metadata": {},
   "outputs": [
    {
     "ename": "NameError",
     "evalue": "name 'time' is not defined",
     "output_type": "error",
     "traceback": [
      "\u001b[1;31m---------------------------------------------------------------------------\u001b[0m",
      "\u001b[1;31mNameError\u001b[0m                                 Traceback (most recent call last)",
      "\u001b[1;32m<ipython-input-5-0fa9c3c5f498>\u001b[0m in \u001b[0;36m<module>\u001b[1;34m\u001b[0m\n\u001b[1;32m----> 1\u001b[1;33m \u001b[0mstart\u001b[0m \u001b[1;33m=\u001b[0m \u001b[0mtime\u001b[0m\u001b[1;33m(\u001b[0m\u001b[1;33m)\u001b[0m\u001b[1;33m\u001b[0m\u001b[1;33m\u001b[0m\u001b[0m\n\u001b[0m\u001b[0;32m      2\u001b[0m \u001b[1;32mfor\u001b[0m \u001b[0mi\u001b[0m \u001b[1;32min\u001b[0m \u001b[0mrange\u001b[0m\u001b[1;33m(\u001b[0m\u001b[1;36m20\u001b[0m\u001b[1;33m)\u001b[0m\u001b[1;33m:\u001b[0m\u001b[1;33m\u001b[0m\u001b[1;33m\u001b[0m\u001b[0m\n\u001b[0;32m      3\u001b[0m     \u001b[0mprint\u001b[0m\u001b[1;33m(\u001b[0m\u001b[1;34m' I am now {}'\u001b[0m\u001b[1;33m.\u001b[0m\u001b[0mformat\u001b[0m\u001b[1;33m(\u001b[0m\u001b[0mi\u001b[0m\u001b[1;33m)\u001b[0m\u001b[1;33m)\u001b[0m\u001b[1;33m\u001b[0m\u001b[1;33m\u001b[0m\u001b[0m\n\u001b[0;32m      4\u001b[0m     \u001b[1;32mif\u001b[0m \u001b[0mi\u001b[0m \u001b[1;33m==\u001b[0m \u001b[1;36m5\u001b[0m\u001b[1;33m:\u001b[0m\u001b[1;33m\u001b[0m\u001b[1;33m\u001b[0m\u001b[0m\n\u001b[0;32m      5\u001b[0m         \u001b[0mprint\u001b[0m\u001b[1;33m(\u001b[0m\u001b[1;34m' Reached 5. Coming out '\u001b[0m\u001b[1;33m)\u001b[0m\u001b[1;33m\u001b[0m\u001b[1;33m\u001b[0m\u001b[0m\n",
      "\u001b[1;31mNameError\u001b[0m: name 'time' is not defined"
     ]
    }
   ],
   "source": [
    "start = time()\n",
    "for i in range(20):\n",
    "    print(' I am now {}'.format(i))\n",
    "    if i == 5:\n",
    "        print(' Reached 5. Coming out ')\n",
    "        continue\n",
    "print('End of program')\n",
    "end = time()\n",
    "print('Time taken = {} secs '.format(end-start))"
   ]
  },
  {
   "cell_type": "code",
   "execution_count": 8,
   "id": "4df690db",
   "metadata": {},
   "outputs": [
    {
     "ename": "SyntaxError",
     "evalue": "invalid syntax (<ipython-input-8-a5c5209d06eb>, line 4)",
     "output_type": "error",
     "traceback": [
      "\u001b[1;36m  File \u001b[1;32m\"<ipython-input-8-a5c5209d06eb>\"\u001b[1;36m, line \u001b[1;32m4\u001b[0m\n\u001b[1;33m    help(pass)\u001b[0m\n\u001b[1;37m         ^\u001b[0m\n\u001b[1;31mSyntaxError\u001b[0m\u001b[1;31m:\u001b[0m invalid syntax\n"
     ]
    }
   ],
   "source": [
    "pass \n",
    "for i in range(10):\n",
    "    pass\n",
    "help(pass)"
   ]
  },
  {
   "cell_type": "code",
   "execution_count": 10,
   "id": "5b4ddd04",
   "metadata": {},
   "outputs": [
    {
     "name": "stdout",
     "output_type": "stream",
     "text": [
      "1\n",
      "2\n",
      "3\n",
      "4\n",
      "end\n"
     ]
    }
   ],
   "source": [
    "i =1\n",
    "while i<5:\n",
    "    print(i)\n",
    "    i+=1\n",
    "    pass\n",
    "print('end')"
   ]
  },
  {
   "cell_type": "code",
   "execution_count": 11,
   "id": "a091fbcb",
   "metadata": {},
   "outputs": [
    {
     "data": {
      "text/plain": [
       "<function __main__.my_func()>"
      ]
     },
     "execution_count": 11,
     "metadata": {},
     "output_type": "execute_result"
    }
   ],
   "source": [
    "def my_func():\n",
    "    pass\n",
    "my_func"
   ]
  },
  {
   "cell_type": "code",
   "execution_count": 12,
   "id": "05e422bc",
   "metadata": {},
   "outputs": [
    {
     "ename": "SyntaxError",
     "evalue": "invalid syntax (<ipython-input-12-66e9977e2946>, line 1)",
     "output_type": "error",
     "traceback": [
      "\u001b[1;36m  File \u001b[1;32m\"<ipython-input-12-66e9977e2946>\"\u001b[1;36m, line \u001b[1;32m1\u001b[0m\n\u001b[1;33m    help(for),help(while)\u001b[0m\n\u001b[1;37m         ^\u001b[0m\n\u001b[1;31mSyntaxError\u001b[0m\u001b[1;31m:\u001b[0m invalid syntax\n"
     ]
    }
   ],
   "source": [
    "help(for),help(while)(For , while are reserved keyword so show an error)"
   ]
  },
  {
   "cell_type": "code",
   "execution_count": 23,
   "id": "95e19d52",
   "metadata": {},
   "outputs": [
    {
     "name": "stdout",
     "output_type": "stream",
     "text": [
      "0\n",
      "1\n",
      "2\n",
      "3\n",
      "4\n"
     ]
    }
   ],
   "source": [
    "for i in range(5):\n",
    "    if i==3:\n",
    "        print(i)\n",
    "        continue\n",
    "    print(i)"
   ]
  },
  {
   "cell_type": "code",
   "execution_count": 24,
   "id": "bced57d6",
   "metadata": {},
   "outputs": [
    {
     "name": "stdout",
     "output_type": "stream",
     "text": [
      "enter your nameamit\n",
      "enter your age10\n",
      "amit 10\n",
      "caught it\n"
     ]
    }
   ],
   "source": [
    "name= input(\"enter your name\")\n",
    "age=int(input(\"enter your age\"))\n",
    "print(name,age)\n",
    "pass\n",
    "print('caught it')"
   ]
  },
  {
   "cell_type": "code",
   "execution_count": null,
   "id": "1d71d160",
   "metadata": {},
   "outputs": [],
   "source": []
  }
 ],
 "metadata": {
  "kernelspec": {
   "display_name": "Python 3",
   "language": "python",
   "name": "python3"
  },
  "language_info": {
   "codemirror_mode": {
    "name": "ipython",
    "version": 3
   },
   "file_extension": ".py",
   "mimetype": "text/x-python",
   "name": "python",
   "nbconvert_exporter": "python",
   "pygments_lexer": "ipython3",
   "version": "3.8.8"
  }
 },
 "nbformat": 4,
 "nbformat_minor": 5
}
