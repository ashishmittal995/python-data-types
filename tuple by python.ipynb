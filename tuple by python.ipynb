{
 "cells": [
  {
   "cell_type": "code",
   "execution_count": 1,
   "id": "1bf16c0e",
   "metadata": {},
   "outputs": [
    {
     "name": "stdout",
     "output_type": "stream",
     "text": [
      "['__add__', '__class__', '__contains__', '__delattr__', '__dir__', '__doc__', '__eq__', '__format__', '__ge__', '__getattribute__', '__getitem__', '__getnewargs__', '__gt__', '__hash__', '__init__', '__init_subclass__', '__iter__', '__le__', '__len__', '__lt__', '__mul__', '__ne__', '__new__', '__reduce__', '__reduce_ex__', '__repr__', '__rmul__', '__setattr__', '__sizeof__', '__str__', '__subclasshook__', 'count', 'index']\n"
     ]
    }
   ],
   "source": [
    "# tuples are used to store multiple values in a single variable\n",
    "# it is ordered and unchangeble\n",
    "print(dir(tuple))"
   ]
  },
  {
   "cell_type": "code",
   "execution_count": 2,
   "id": "8c86ef49",
   "metadata": {},
   "outputs": [
    {
     "name": "stdout",
     "output_type": "stream",
     "text": [
      "('apple', 'orange', 'kiwi')\n"
     ]
    }
   ],
   "source": [
    "tuple = (\"apple\",\"orange\",\"kiwi\")\n",
    "print(tuple)"
   ]
  },
  {
   "cell_type": "code",
   "execution_count": 1,
   "id": "09002eaf",
   "metadata": {},
   "outputs": [
    {
     "name": "stdout",
     "output_type": "stream",
     "text": [
      "('apple', 'watermelon', 'kiwi')\n"
     ]
    }
   ],
   "source": [
    "# method to find out the update of a tuple\n",
    "x = (\"apple\",\"orange\",\"kiwi\")\n",
    "y = list(x)\n",
    "y[1] = (\"watermelon\")\n",
    "x = tuple(y)\n",
    "print(x)"
   ]
  },
  {
   "cell_type": "code",
   "execution_count": 1,
   "id": "1174a588",
   "metadata": {},
   "outputs": [
    {
     "name": "stdout",
     "output_type": "stream",
     "text": [
      "('apple', 'orange', 'kiwi', 'watermelon')\n"
     ]
    }
   ],
   "source": [
    "# method to find out the append method() of a tuple\n",
    "x = (\"apple\",\"orange\",\"kiwi\")\n",
    "y = list(x)\n",
    "y.append(\"watermelon\")\n",
    "x = tuple(y)\n",
    "print(x)\n",
    "\n"
   ]
  },
  {
   "cell_type": "code",
   "execution_count": 2,
   "id": "63048972",
   "metadata": {},
   "outputs": [
    {
     "name": "stdout",
     "output_type": "stream",
     "text": [
      "('watermelon', 'cherry', 'kiwi')\n"
     ]
    }
   ],
   "source": [
    "#  method to find out the range indexes of a tuple\n",
    "x = (\"apple\",\"orange\",\"kiwi\")\n",
    "y = list(x)\n",
    "y[0:2] = \"watermelon\",\"cherry\"\n",
    "x = tuple(y)\n",
    "print(x)"
   ]
  },
  {
   "cell_type": "code",
   "execution_count": 3,
   "id": "cd04b64c",
   "metadata": {},
   "outputs": [
    {
     "name": "stdout",
     "output_type": "stream",
     "text": [
      "('apple', 'orange', 'kiwi', 'cake', 'pastry', 'coca-cola')\n"
     ]
    }
   ],
   "source": [
    "# method to find out the join of a tuple\n",
    "x = (\"apple\",\"orange\",\"kiwi\")\n",
    "y = (\"cake\",\"pastry\",\"coca-cola\")\n",
    "z= x+y\n",
    "print(z)"
   ]
  },
  {
   "cell_type": "code",
   "execution_count": 18,
   "id": "7f493677",
   "metadata": {},
   "outputs": [
    {
     "name": "stdout",
     "output_type": "stream",
     "text": [
      "<class 'tuple'>\n"
     ]
    }
   ],
   "source": [
    "# method to find out the delete of a tuple\n",
    "tuple =(\"cake\",\"pastry\", \"coca-cola\")\n",
    "del tuple\n",
    "print(tuple)\n"
   ]
  },
  {
   "cell_type": "code",
   "execution_count": 19,
   "id": "f3b16b9c",
   "metadata": {},
   "outputs": [
    {
     "data": {
      "text/plain": [
       "4"
      ]
     },
     "execution_count": 19,
     "metadata": {},
     "output_type": "execute_result"
    }
   ],
   "source": [
    "# to find out the length of a tuple\n",
    "t =(\"cake\", \"pastry\",\"laddo\", \"namkeen\")\n",
    "len(t)\n"
   ]
  }
 ],
 "metadata": {
  "kernelspec": {
   "display_name": "Python 3",
   "language": "python",
   "name": "python3"
  },
  "language_info": {
   "codemirror_mode": {
    "name": "ipython",
    "version": 3
   },
   "file_extension": ".py",
   "mimetype": "text/x-python",
   "name": "python",
   "nbconvert_exporter": "python",
   "pygments_lexer": "ipython3",
   "version": "3.8.8"
  }
 },
 "nbformat": 4,
 "nbformat_minor": 5
}
