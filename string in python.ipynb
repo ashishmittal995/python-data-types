{
 "cells": [
  {
   "cell_type": "code",
   "execution_count": 9,
   "id": "673d45bc",
   "metadata": {},
   "outputs": [
    {
     "data": {
      "text/plain": [
       "12"
      ]
     },
     "execution_count": 9,
     "metadata": {},
     "output_type": "execute_result"
    }
   ],
   "source": [
    "# to find the length of a string\n",
    "a = \"rahul somani\"\n",
    "(len(a))"
   ]
  },
  {
   "cell_type": "code",
   "execution_count": 13,
   "id": "782374d1",
   "metadata": {},
   "outputs": [
    {
     "data": {
      "text/plain": [
       "True"
      ]
     },
     "execution_count": 13,
     "metadata": {},
     "output_type": "execute_result"
    }
   ],
   "source": [
    "# to check the string\n",
    "a = \" rahul in a good manner\"\n",
    "(\"good\" in a)"
   ]
  },
  {
   "cell_type": "code",
   "execution_count": 15,
   "id": "a013a0ba",
   "metadata": {},
   "outputs": [
    {
     "data": {
      "text/plain": [
       "True"
      ]
     },
     "execution_count": 15,
     "metadata": {},
     "output_type": "execute_result"
    }
   ],
   "source": [
    "# check if not\n",
    "txt = \"well done\"\n",
    "(\"expensive\"  not in txt)"
   ]
  },
  {
   "cell_type": "code",
   "execution_count": 16,
   "id": "8b2d781e",
   "metadata": {},
   "outputs": [
    {
     "data": {
      "text/plain": [
       "'llo'"
      ]
     },
     "execution_count": 16,
     "metadata": {},
     "output_type": "execute_result"
    }
   ],
   "source": [
    "# slicing index\n",
    "a = \"hello,world\"\n",
    "(a[2:5])"
   ]
  },
  {
   "cell_type": "code",
   "execution_count": 21,
   "id": "48804c55",
   "metadata": {},
   "outputs": [
    {
     "data": {
      "text/plain": [
       "'hello wor'"
      ]
     },
     "execution_count": 21,
     "metadata": {},
     "output_type": "execute_result"
    }
   ],
   "source": [
    "#  start at the index\n",
    "a = \"hello world\"\n",
    "(a[:9])"
   ]
  },
  {
   "cell_type": "code",
   "execution_count": 22,
   "id": "5eca83a3",
   "metadata": {},
   "outputs": [
    {
     "data": {
      "text/plain": [
       "'llo world'"
      ]
     },
     "execution_count": 22,
     "metadata": {},
     "output_type": "execute_result"
    }
   ],
   "source": [
    "# end at the index\n",
    "a = \"hello world\"\n",
    "(a[2:])"
   ]
  },
  {
   "cell_type": "code",
   "execution_count": 23,
   "id": "68138251",
   "metadata": {},
   "outputs": [
    {
     "data": {
      "text/plain": [
       "'ELON MUSK'"
      ]
     },
     "execution_count": 23,
     "metadata": {},
     "output_type": "execute_result"
    }
   ],
   "source": [
    "# to find upper index\n",
    "txt =\"elon musk\"\n",
    "(txt.upper())"
   ]
  },
  {
   "cell_type": "code",
   "execution_count": 24,
   "id": "704ce130",
   "metadata": {},
   "outputs": [
    {
     "data": {
      "text/plain": [
       "'elon musk'"
      ]
     },
     "execution_count": 24,
     "metadata": {},
     "output_type": "execute_result"
    }
   ],
   "source": [
    "# to find lower index\n",
    "txt = \"ELON MUSK\"\n",
    "(txt.lower())"
   ]
  },
  {
   "cell_type": "code",
   "execution_count": 27,
   "id": "52833d5d",
   "metadata": {},
   "outputs": [
    {
     "data": {
      "text/plain": [
       "'hello Jorld'"
      ]
     },
     "execution_count": 27,
     "metadata": {},
     "output_type": "execute_result"
    }
   ],
   "source": [
    "#  to find replace string\n",
    "txt = \"hello world\"\n",
    "txt.replace(\"w\",\"J\")"
   ]
  },
  {
   "cell_type": "code",
   "execution_count": 37,
   "id": "b39fc626",
   "metadata": {},
   "outputs": [
    {
     "data": {
      "text/plain": [
       "'Hello world'"
      ]
     },
     "execution_count": 37,
     "metadata": {},
     "output_type": "execute_result"
    }
   ],
   "source": [
    "# to find capitalize of a string\n",
    "a= \"hello world\"\n",
    "a.capitalize()"
   ]
  },
  {
   "cell_type": "code",
   "execution_count": 39,
   "id": "4cc611c5",
   "metadata": {},
   "outputs": [
    {
     "data": {
      "text/plain": [
       "['hello', 'world']"
      ]
     },
     "execution_count": 39,
     "metadata": {},
     "output_type": "execute_result"
    }
   ],
   "source": [
    "# to find split of a string\n",
    "a = \"hello world\"\n",
    "a.split(\" \")"
   ]
  },
  {
   "cell_type": "code",
   "execution_count": 42,
   "id": "45472dc2",
   "metadata": {},
   "outputs": [
    {
     "data": {
      "text/plain": [
       "['he', '', 'o wor', 'd']"
      ]
     },
     "execution_count": 42,
     "metadata": {},
     "output_type": "execute_result"
    }
   ],
   "source": [
    "a.split(\"l\")"
   ]
  },
  {
   "cell_type": "code",
   "execution_count": 43,
   "id": "0544b898",
   "metadata": {},
   "outputs": [
    {
     "data": {
      "text/plain": [
       "'h e l l o'"
      ]
     },
     "execution_count": 43,
     "metadata": {},
     "output_type": "execute_result"
    }
   ],
   "source": [
    "# to find  join of a string\n",
    "\" \".join('hello')"
   ]
  },
  {
   "cell_type": "code",
   "execution_count": 44,
   "id": "9eebee72",
   "metadata": {},
   "outputs": [
    {
     "data": {
      "text/plain": [
       "'h-e-l-l-o'"
      ]
     },
     "execution_count": 44,
     "metadata": {},
     "output_type": "execute_result"
    }
   ],
   "source": [
    "\"-\".join ('hello')"
   ]
  },
  {
   "cell_type": "code",
   "execution_count": 51,
   "id": "456d175a",
   "metadata": {},
   "outputs": [
    {
     "data": {
      "text/plain": [
       "'w'"
      ]
     },
     "execution_count": 51,
     "metadata": {},
     "output_type": "execute_result"
    }
   ],
   "source": [
    "# to find _getitem_ of a string\n",
    "a = \"hello world\"\n",
    "a.__getitem__(6)"
   ]
  },
  {
   "cell_type": "code",
   "execution_count": 61,
   "id": "dddf9535",
   "metadata": {},
   "outputs": [
    {
     "data": {
      "text/plain": [
       "'hello world'"
      ]
     },
     "execution_count": 61,
     "metadata": {},
     "output_type": "execute_result"
    }
   ],
   "source": [
    "# to find casefold of a string\n",
    "a = \"HELLO World\"\n",
    "a.casefold()"
   ]
  },
  {
   "cell_type": "code",
   "execution_count": 1,
   "id": "ce06b157",
   "metadata": {},
   "outputs": [
    {
     "name": "stdout",
     "output_type": "stream",
     "text": [
      "['__add__', '__class__', '__contains__', '__delattr__', '__dir__', '__doc__', '__eq__', '__format__', '__ge__', '__getattribute__', '__getitem__', '__getnewargs__', '__gt__', '__hash__', '__init__', '__init_subclass__', '__iter__', '__le__', '__len__', '__lt__', '__mod__', '__mul__', '__ne__', '__new__', '__reduce__', '__reduce_ex__', '__repr__', '__rmod__', '__rmul__', '__setattr__', '__sizeof__', '__str__', '__subclasshook__', 'capitalize', 'casefold', 'center', 'count', 'encode', 'endswith', 'expandtabs', 'find', 'format', 'format_map', 'index', 'isalnum', 'isalpha', 'isascii', 'isdecimal', 'isdigit', 'isidentifier', 'islower', 'isnumeric', 'isprintable', 'isspace', 'istitle', 'isupper', 'join', 'ljust', 'lower', 'lstrip', 'maketrans', 'partition', 'replace', 'rfind', 'rindex', 'rjust', 'rpartition', 'rsplit', 'rstrip', 'split', 'splitlines', 'startswith', 'strip', 'swapcase', 'title', 'translate', 'upper', 'zfill']\n"
     ]
    }
   ],
   "source": [
    "print(dir(str))"
   ]
  },
  {
   "cell_type": "code",
   "execution_count": null,
   "id": "6561c99d",
   "metadata": {},
   "outputs": [],
   "source": []
  }
 ],
 "metadata": {
  "kernelspec": {
   "display_name": "Python 3",
   "language": "python",
   "name": "python3"
  },
  "language_info": {
   "codemirror_mode": {
    "name": "ipython",
    "version": 3
   },
   "file_extension": ".py",
   "mimetype": "text/x-python",
   "name": "python",
   "nbconvert_exporter": "python",
   "pygments_lexer": "ipython3",
   "version": "3.8.8"
  }
 },
 "nbformat": 4,
 "nbformat_minor": 5
}
