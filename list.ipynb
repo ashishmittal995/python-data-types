{
 "cells": [
  {
   "cell_type": "code",
   "execution_count": 1,
   "id": "cfc78c3f",
   "metadata": {},
   "outputs": [
    {
     "name": "stdout",
     "output_type": "stream",
     "text": [
      "['__add__', '__class__', '__contains__', '__delattr__', '__delitem__', '__dir__', '__doc__', '__eq__', '__format__', '__ge__', '__getattribute__', '__getitem__', '__gt__', '__hash__', '__iadd__', '__imul__', '__init__', '__init_subclass__', '__iter__', '__le__', '__len__', '__lt__', '__mul__', '__ne__', '__new__', '__reduce__', '__reduce_ex__', '__repr__', '__reversed__', '__rmul__', '__setattr__', '__setitem__', '__sizeof__', '__str__', '__subclasshook__', 'append', 'clear', 'copy', 'count', 'extend', 'index', 'insert', 'pop', 'remove', 'reverse', 'sort']\n"
     ]
    }
   ],
   "source": [
    "# list are used to store multiple values in a single variable.\n",
    "# list are ordered,changeable and allow duplicate values(repeated value).\n",
    "print(dir(list))"
   ]
  },
  {
   "cell_type": "code",
   "execution_count": 10,
   "id": "0eb20393",
   "metadata": {},
   "outputs": [
    {
     "data": {
      "text/plain": [
       "'banana'"
      ]
     },
     "execution_count": 10,
     "metadata": {},
     "output_type": "execute_result"
    }
   ],
   "source": [
    "# to find the index of a list\n",
    "list = ['apple','banana','orange','kiwi']\n",
    "list[1]\n",
    "\n"
   ]
  },
  {
   "cell_type": "code",
   "execution_count": 11,
   "id": "fbc62b4c",
   "metadata": {},
   "outputs": [
    {
     "data": {
      "text/plain": [
       "'kiwi'"
      ]
     },
     "execution_count": 11,
     "metadata": {},
     "output_type": "execute_result"
    }
   ],
   "source": [
    "# to find negative indexing\n",
    "list = ['apple','banana','orange','kiwi']\n",
    "list[-1]"
   ]
  },
  {
   "cell_type": "code",
   "execution_count": 14,
   "id": "9e5b2277",
   "metadata": {},
   "outputs": [
    {
     "name": "stdout",
     "output_type": "stream",
     "text": [
      "['apple', 'banana', 'orange', 'kiwi', 'pineapple', 'pineapple']\n"
     ]
    }
   ],
   "source": [
    "list.append(\"pineapple\")\n",
    "print(list)"
   ]
  },
  {
   "cell_type": "code",
   "execution_count": 18,
   "id": "63a0a481",
   "metadata": {},
   "outputs": [
    {
     "name": "stdout",
     "output_type": "stream",
     "text": [
      "['apple', 'banana', 'watermelon', 'orange', 'kiwi']\n"
     ]
    }
   ],
   "source": [
    "# to find  insert of a value\n",
    "list = ['apple','banana','orange','kiwi']\n",
    "list.insert(2,'watermelon')\n",
    "print(list)\n",
    "\n"
   ]
  },
  {
   "cell_type": "code",
   "execution_count": 19,
   "id": "85a69a55",
   "metadata": {},
   "outputs": [
    {
     "name": "stdout",
     "output_type": "stream",
     "text": [
      "['apple', 'banana', 'orange', 'kiwi', 'watermelon', 'litchi', 'papaya']\n"
     ]
    }
   ],
   "source": [
    "# to find add of items in a list\n",
    "list = ['apple','banana','orange','kiwi']\n",
    "lists = ['watermelon','litchi','papaya']\n",
    "list.extend(lists)\n",
    "print(list)"
   ]
  },
  {
   "cell_type": "code",
   "execution_count": 22,
   "id": "5e5dd97a",
   "metadata": {},
   "outputs": [
    {
     "name": "stdout",
     "output_type": "stream",
     "text": [
      "['apple', 'banana', 'kiwi']\n"
     ]
    }
   ],
   "source": [
    "# to find remove of a item in a list\n",
    "list = ['apple','banana','orange','kiwi']\n",
    "list.remove('orange')\n",
    "print(list)"
   ]
  },
  {
   "cell_type": "code",
   "execution_count": 23,
   "id": "a5e79616",
   "metadata": {},
   "outputs": [
    {
     "data": {
      "text/plain": [
       "'banana'"
      ]
     },
     "execution_count": 23,
     "metadata": {},
     "output_type": "execute_result"
    }
   ],
   "source": [
    "# to find pop() method of a list\n",
    "list = ['apple','banana','orange','kiwi']\n",
    "list.pop(1)"
   ]
  },
  {
   "cell_type": "code",
   "execution_count": 25,
   "id": "961e540b",
   "metadata": {},
   "outputs": [
    {
     "name": "stdout",
     "output_type": "stream",
     "text": [
      "['apple', 'banana', 'kiwi', 'orange']\n"
     ]
    }
   ],
   "source": [
    "# to find sort() method of a list(ascending order)\n",
    "list = ['apple','banana','orange','kiwi']\n",
    "list.sort()\n",
    "print(list)"
   ]
  },
  {
   "cell_type": "code",
   "execution_count": 27,
   "id": "4f96e087",
   "metadata": {},
   "outputs": [
    {
     "name": "stdout",
     "output_type": "stream",
     "text": [
      "['orange', 'kiwi', 'banana', 'apple']\n"
     ]
    }
   ],
   "source": [
    "# to find sort() method of a list(descending order)\n",
    "list = ['apple','banana','orange','kiwi']\n",
    "list.sort(reverse = True)\n",
    "print(list)"
   ]
  },
  {
   "cell_type": "code",
   "execution_count": 29,
   "id": "bdd39fca",
   "metadata": {},
   "outputs": [
    {
     "name": "stdout",
     "output_type": "stream",
     "text": [
      "['apple', 'Banana', 'kiwi', 'Orange']\n"
     ]
    }
   ],
   "source": [
    "# to find  the case sensitive value\n",
    "list = ['apple','Banana','Orange','kiwi']\n",
    "list.sort(key = str.lower)\n",
    "print(list)"
   ]
  },
  {
   "cell_type": "code",
   "execution_count": 30,
   "id": "f72a4803",
   "metadata": {},
   "outputs": [
    {
     "name": "stdout",
     "output_type": "stream",
     "text": [
      "['Banana', 'Kiwi', 'apple', 'orange']\n"
     ]
    }
   ],
   "source": [
    "# to find the first capital letter,then small letter of a list\n",
    "list = ['apple','Banana','orange','Kiwi']\n",
    "list.sort()\n",
    "print(list)"
   ]
  },
  {
   "cell_type": "code",
   "execution_count": 44,
   "id": "a28fbd10",
   "metadata": {},
   "outputs": [
    {
     "name": "stdout",
     "output_type": "stream",
     "text": [
      "['kiwi', 'orange', 'banana', 'apple']\n"
     ]
    }
   ],
   "source": [
    " # to find reverse of a string\n",
    "list = ['apple','banana','orange','kiwi']\n",
    "list.reverse()\n",
    "print(list)"
   ]
  },
  {
   "cell_type": "code",
   "execution_count": 45,
   "id": "829d83a9",
   "metadata": {},
   "outputs": [
    {
     "name": "stdout",
     "output_type": "stream",
     "text": [
      "[]\n"
     ]
    }
   ],
   "source": [
    "# to find clear() of a list\n",
    "list = ['apple','banana','orange','kiwi']\n",
    "list.clear()\n",
    "print(list)"
   ]
  },
  {
   "cell_type": "code",
   "execution_count": 9,
   "id": "3021636d",
   "metadata": {},
   "outputs": [
    {
     "name": "stdout",
     "output_type": "stream",
     "text": [
      "['apple', 'cake', 'pastry', 'slice', 'kiwi']\n"
     ]
    }
   ],
   "source": [
    "# to find add item in a list in number wise\n",
    "list = ['apple','banana','orange','kiwi']\n",
    "list[1:3] ='cake','pastry','slice'\n",
    "print(list)\n",
    "# this means that (1) is removed but (3) is not removed"
   ]
  },
  {
   "cell_type": "code",
   "execution_count": 8,
   "id": "2b7a2197",
   "metadata": {},
   "outputs": [
    {
     "name": "stdout",
     "output_type": "stream",
     "text": [
      "['cake', 'pastry', 'banana', 'orange', 'kiwi']\n"
     ]
    }
   ],
   "source": [
    "list = ['apple','banana','orange','kiwi']\n",
    "list[0:1] = 'cake','pastry'\n",
    "print(list)"
   ]
  },
  {
   "cell_type": "code",
   "execution_count": 10,
   "id": "f9bda27b",
   "metadata": {},
   "outputs": [
    {
     "data": {
      "text/plain": [
       "['apple', 'banana']"
      ]
     },
     "execution_count": 10,
     "metadata": {},
     "output_type": "execute_result"
    }
   ],
   "source": [
    "#  to find range in value of a list\n",
    "list = ['apple','banana','orange','kiwi']\n",
    "list[0:2]  # index 0 is  not removed but index 2 is removed "
   ]
  },
  {
   "cell_type": "code",
   "execution_count": 14,
   "id": "148c4017",
   "metadata": {},
   "outputs": [
    {
     "data": {
      "text/plain": [
       "4"
      ]
     },
     "execution_count": 14,
     "metadata": {},
     "output_type": "execute_result"
    }
   ],
   "source": [
    "# to find the len(),__len()__ of a list\n",
    "list = ['apple','banana','orange','kiwi']\n",
    "len(list)"
   ]
  },
  {
   "cell_type": "code",
   "execution_count": 17,
   "id": "e163defc",
   "metadata": {},
   "outputs": [
    {
     "data": {
      "text/plain": [
       "4"
      ]
     },
     "execution_count": 17,
     "metadata": {},
     "output_type": "execute_result"
    }
   ],
   "source": [
    "list = ['apple','banana','orange','kiwi']\n",
    "list.__len__()"
   ]
  },
  {
   "cell_type": "code",
   "execution_count": null,
   "id": "786d26d4",
   "metadata": {},
   "outputs": [],
   "source": [
    "\n"
   ]
  }
 ],
 "metadata": {
  "kernelspec": {
   "display_name": "Python 3",
   "language": "python",
   "name": "python3"
  },
  "language_info": {
   "codemirror_mode": {
    "name": "ipython",
    "version": 3
   },
   "file_extension": ".py",
   "mimetype": "text/x-python",
   "name": "python",
   "nbconvert_exporter": "python",
   "pygments_lexer": "ipython3",
   "version": "3.8.8"
  }
 },
 "nbformat": 4,
 "nbformat_minor": 5
}
