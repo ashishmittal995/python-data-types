{
 "cells": [
  {
   "cell_type": "code",
   "execution_count": 1,
   "id": "5966c56b",
   "metadata": {},
   "outputs": [
    {
     "data": {
      "text/plain": [
       "(dict, 2266502947968)"
      ]
     },
     "execution_count": 1,
     "metadata": {},
     "output_type": "execute_result"
    }
   ],
   "source": [
    "# dict are used to store data values in key: value pairs\n",
    "# the dict is an ordered, changeble,and allow duplicate values\n",
    "d={}\n",
    "type(d), id(d)"
   ]
  },
  {
   "cell_type": "code",
   "execution_count": 5,
   "id": "4e370216",
   "metadata": {},
   "outputs": [
    {
     "name": "stdout",
     "output_type": "stream",
     "text": [
      "white\n"
     ]
    }
   ],
   "source": [
    "dict ={\n",
    "    \"brand\" : \"maruti\",\n",
    "    \"color\" : \"white\",\n",
    "    \" year\" : \"2021 \"\n",
    "}\n",
    "x = dict[\"color\"]\n",
    "print(x)"
   ]
  },
  {
   "cell_type": "code",
   "execution_count": 43,
   "id": "1956ee79",
   "metadata": {},
   "outputs": [
    {
     "name": "stdout",
     "output_type": "stream",
     "text": [
      "['__class__', '__contains__', '__delattr__', '__delitem__', '__dir__', '__doc__', '__eq__', '__format__', '__ge__', '__getattribute__', '__getitem__', '__gt__', '__hash__', '__init__', '__init_subclass__', '__iter__', '__le__', '__len__', '__lt__', '__ne__', '__new__', '__reduce__', '__reduce_ex__', '__repr__', '__reversed__', '__setattr__', '__setitem__', '__sizeof__', '__str__', '__subclasshook__', 'clear', 'copy', 'fromkeys', 'get', 'items', 'keys', 'pop', 'popitem', 'setdefault', 'update', 'values']\n"
     ]
    }
   ],
   "source": [
    "print(dir(dict))"
   ]
  },
  {
   "cell_type": "code",
   "execution_count": 15,
   "id": "cd0552a4",
   "metadata": {},
   "outputs": [
    {
     "name": "stdout",
     "output_type": "stream",
     "text": [
      "dict_keys(['brand', 'color', ' year'])\n"
     ]
    }
   ],
   "source": [
    "# to find the list of key in a dict\n",
    "dict = {\n",
    "    \"brand\" : \"maruti\",\n",
    "    \"color\" : \"white\",\n",
    "    \" year\" : \"2021 \"\n",
    "}\n",
    "x = dict.keys()\n",
    "print(x)\n"
   ]
  },
  {
   "cell_type": "code",
   "execution_count": 16,
   "id": "bbcf44a7",
   "metadata": {},
   "outputs": [
    {
     "name": "stdout",
     "output_type": "stream",
     "text": [
      "dict_values(['maruti', 'white', '2021 '])\n"
     ]
    }
   ],
   "source": [
    "# to find the list of a value in a dict\n",
    "dict ={\n",
    "    \"brand\" : \"maruti\",\n",
    "    \"color\" : \"white\",\n",
    "    \" year\" : \"2021 \"\n",
    "}\n",
    "x = dict.values()\n",
    "print(x)"
   ]
  },
  {
   "cell_type": "code",
   "execution_count": 17,
   "id": "82db2a04",
   "metadata": {},
   "outputs": [
    {
     "data": {
      "text/plain": [
       "(2915265125056, 2915265125952)"
      ]
     },
     "execution_count": 17,
     "metadata": {},
     "output_type": "execute_result"
    }
   ],
   "source": [
    "# to find the mutuable of a dict by using id\n",
    "x ={\"name\"}\n",
    "y = {\"name\"}\n",
    "id(x),id(y)"
   ]
  },
  {
   "cell_type": "code",
   "execution_count": 27,
   "id": "e8476daa",
   "metadata": {},
   "outputs": [
    {
     "name": "stdout",
     "output_type": "stream",
     "text": [
      "{'brand': 'maruti', 'color': 'white', ' year': '2021 ', 'car': 'maruti'}\n"
     ]
    }
   ],
   "source": [
    "# to find the update of a dict\n",
    "dict = {\n",
    "    \"brand\" : \"maruti\",\n",
    "    \"color\" : \"white\",\n",
    "    \" year\" : \"2021 \"\n",
    "}\n",
    "dict.update({\"car\":\"maruti\"})\n",
    "print(dict)\n",
    " \n"
   ]
  },
  {
   "cell_type": "code",
   "execution_count": 35,
   "id": "b1f63772",
   "metadata": {},
   "outputs": [
    {
     "name": "stdout",
     "output_type": "stream",
     "text": [
      "{'brand': 'maruti', 'color': 'white', ' year': '2021 ', 'year': '2018'}\n"
     ]
    }
   ],
   "source": [
    "# to find the change of value in a dict\n",
    "dict = {\n",
    "    \"brand\" : \"maruti\",\n",
    "    \"color\" : \"white\",\n",
    "    \" year\" : \"2021 \"\n",
    "}\n",
    "dict[\"year\"] =\"2018\"\n",
    "print(dict)"
   ]
  },
  {
   "cell_type": "code",
   "execution_count": 42,
   "id": "09d59f46",
   "metadata": {},
   "outputs": [
    {
     "name": "stdout",
     "output_type": "stream",
     "text": [
      "{'brand': 'maruti', ' year': '2021 '}\n"
     ]
    }
   ],
   "source": [
    "# to find the remove of key or value in  a dict\n",
    "dict = {\n",
    "    \"brand\" : \"maruti\",\n",
    "    \"color\" : \"white\",\n",
    "    \" year\" : \"2021 \"\n",
    "}\n",
    "dict.pop(\"color\")\n",
    "print(dict) # this means that pop() is valid only for keys not for values."
   ]
  },
  {
   "cell_type": "code",
   "execution_count": 45,
   "id": "5a3178ab",
   "metadata": {},
   "outputs": [
    {
     "name": "stdout",
     "output_type": "stream",
     "text": [
      "{'brand': 'maruti', 'color': 'white'}\n"
     ]
    }
   ],
   "source": [
    "#  to remove the last key or value in  a dict\n",
    "dict = {\n",
    "    \"brand\" : \"maruti\",\n",
    "    \"color\" : \"white\",\n",
    "    \" year\" : \"2021 \"\n",
    "}\n",
    "dict.popitem()\n",
    "print(dict)"
   ]
  },
  {
   "cell_type": "code",
   "execution_count": 47,
   "id": "b1300435",
   "metadata": {},
   "outputs": [
    {
     "name": "stdout",
     "output_type": "stream",
     "text": [
      "{}\n"
     ]
    }
   ],
   "source": [
    "# to clear the key or value in a dict\n",
    "dict = {\n",
    "    \"brand\" : \"maruti\",\n",
    "    \"color\" : \"white\",\n",
    "    \" year\" : \"2021 \"\n",
    "}\n",
    "dict.clear()\n",
    "print(dict)"
   ]
  },
  {
   "cell_type": "code",
   "execution_count": 52,
   "id": "f62efe18",
   "metadata": {},
   "outputs": [
    {
     "data": {
      "text/plain": [
       "({'player': 'virat', 'age': 35}, dict)"
      ]
     },
     "execution_count": 52,
     "metadata": {},
     "output_type": "execute_result"
    }
   ],
   "source": [
    "# to change into dict\n",
    "dict['player'] = 'virat'\n",
    "dict['age']= 35\n",
    "dict,type(dict)\n"
   ]
  },
  {
   "cell_type": "code",
   "execution_count": 54,
   "id": "188c4937",
   "metadata": {},
   "outputs": [
    {
     "name": "stdout",
     "output_type": "stream",
     "text": [
      "Help on dict object:\n",
      "\n",
      "class dict(object)\n",
      " |  dict() -> new empty dictionary\n",
      " |  dict(mapping) -> new dictionary initialized from a mapping object's\n",
      " |      (key, value) pairs\n",
      " |  dict(iterable) -> new dictionary initialized as if via:\n",
      " |      d = {}\n",
      " |      for k, v in iterable:\n",
      " |          d[k] = v\n",
      " |  dict(**kwargs) -> new dictionary initialized with the name=value pairs\n",
      " |      in the keyword argument list.  For example:  dict(one=1, two=2)\n",
      " |  \n",
      " |  Built-in subclasses:\n",
      " |      StgDict\n",
      " |  \n",
      " |  Methods defined here:\n",
      " |  \n",
      " |  __contains__(self, key, /)\n",
      " |      True if the dictionary has the specified key, else False.\n",
      " |  \n",
      " |  __delitem__(self, key, /)\n",
      " |      Delete self[key].\n",
      " |  \n",
      " |  __eq__(self, value, /)\n",
      " |      Return self==value.\n",
      " |  \n",
      " |  __ge__(self, value, /)\n",
      " |      Return self>=value.\n",
      " |  \n",
      " |  __getattribute__(self, name, /)\n",
      " |      Return getattr(self, name).\n",
      " |  \n",
      " |  __getitem__(...)\n",
      " |      x.__getitem__(y) <==> x[y]\n",
      " |  \n",
      " |  __gt__(self, value, /)\n",
      " |      Return self>value.\n",
      " |  \n",
      " |  __init__(self, /, *args, **kwargs)\n",
      " |      Initialize self.  See help(type(self)) for accurate signature.\n",
      " |  \n",
      " |  __iter__(self, /)\n",
      " |      Implement iter(self).\n",
      " |  \n",
      " |  __le__(self, value, /)\n",
      " |      Return self<=value.\n",
      " |  \n",
      " |  __len__(self, /)\n",
      " |      Return len(self).\n",
      " |  \n",
      " |  __lt__(self, value, /)\n",
      " |      Return self<value.\n",
      " |  \n",
      " |  __ne__(self, value, /)\n",
      " |      Return self!=value.\n",
      " |  \n",
      " |  __repr__(self, /)\n",
      " |      Return repr(self).\n",
      " |  \n",
      " |  __reversed__(self, /)\n",
      " |      Return a reverse iterator over the dict keys.\n",
      " |  \n",
      " |  __setitem__(self, key, value, /)\n",
      " |      Set self[key] to value.\n",
      " |  \n",
      " |  __sizeof__(...)\n",
      " |      D.__sizeof__() -> size of D in memory, in bytes\n",
      " |  \n",
      " |  clear(...)\n",
      " |      D.clear() -> None.  Remove all items from D.\n",
      " |  \n",
      " |  copy(...)\n",
      " |      D.copy() -> a shallow copy of D\n",
      " |  \n",
      " |  get(self, key, default=None, /)\n",
      " |      Return the value for key if key is in the dictionary, else default.\n",
      " |  \n",
      " |  items(...)\n",
      " |      D.items() -> a set-like object providing a view on D's items\n",
      " |  \n",
      " |  keys(...)\n",
      " |      D.keys() -> a set-like object providing a view on D's keys\n",
      " |  \n",
      " |  pop(...)\n",
      " |      D.pop(k[,d]) -> v, remove specified key and return the corresponding value.\n",
      " |      If key is not found, d is returned if given, otherwise KeyError is raised\n",
      " |  \n",
      " |  popitem(self, /)\n",
      " |      Remove and return a (key, value) pair as a 2-tuple.\n",
      " |      \n",
      " |      Pairs are returned in LIFO (last-in, first-out) order.\n",
      " |      Raises KeyError if the dict is empty.\n",
      " |  \n",
      " |  setdefault(self, key, default=None, /)\n",
      " |      Insert key with a value of default if key is not in the dictionary.\n",
      " |      \n",
      " |      Return the value for key if key is in the dictionary, else default.\n",
      " |  \n",
      " |  update(...)\n",
      " |      D.update([E, ]**F) -> None.  Update D from dict/iterable E and F.\n",
      " |      If E is present and has a .keys() method, then does:  for k in E: D[k] = E[k]\n",
      " |      If E is present and lacks a .keys() method, then does:  for k, v in E: D[k] = v\n",
      " |      In either case, this is followed by: for k in F:  D[k] = F[k]\n",
      " |  \n",
      " |  values(...)\n",
      " |      D.values() -> an object providing a view on D's values\n",
      " |  \n",
      " |  ----------------------------------------------------------------------\n",
      " |  Class methods defined here:\n",
      " |  \n",
      " |  fromkeys(iterable, value=None, /) from builtins.type\n",
      " |      Create a new dictionary with keys from iterable and values set to value.\n",
      " |  \n",
      " |  ----------------------------------------------------------------------\n",
      " |  Static methods defined here:\n",
      " |  \n",
      " |  __new__(*args, **kwargs) from builtins.type\n",
      " |      Create and return a new object.  See help(type) for accurate signature.\n",
      " |  \n",
      " |  ----------------------------------------------------------------------\n",
      " |  Data and other attributes defined here:\n",
      " |  \n",
      " |  __hash__ = None\n",
      "\n"
     ]
    }
   ],
   "source": [
    "help(dict)"
   ]
  },
  {
   "cell_type": "code",
   "execution_count": null,
   "id": "fa5b1349",
   "metadata": {},
   "outputs": [],
   "source": []
  },
  {
   "cell_type": "code",
   "execution_count": null,
   "id": "d429eb1d",
   "metadata": {},
   "outputs": [],
   "source": []
  }
 ],
 "metadata": {
  "kernelspec": {
   "display_name": "Python 3",
   "language": "python",
   "name": "python3"
  },
  "language_info": {
   "codemirror_mode": {
    "name": "ipython",
    "version": 3
   },
   "file_extension": ".py",
   "mimetype": "text/x-python",
   "name": "python",
   "nbconvert_exporter": "python",
   "pygments_lexer": "ipython3",
   "version": "3.8.8"
  }
 },
 "nbformat": 4,
 "nbformat_minor": 5
}
